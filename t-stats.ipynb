{
 "cells": [
  {
   "cell_type": "code",
   "execution_count": 1,
   "metadata": {},
   "outputs": [],
   "source": [
    "#Date: 06/04/2021\n",
    "#Location: Imaging Mind Architecture Lab, Trinity College Dublin\n",
    "\n",
    "# Loading all the libraries\n",
    "\n",
    "import pandas as pd\n",
    "from scipy import stats"
   ]
  },
  {
   "cell_type": "code",
   "execution_count": 2,
   "metadata": {},
   "outputs": [],
   "source": [
    "# Loading the data\n",
    "\n",
    "asd = pd.read_csv('C:\\\\Users\\\\theab\\\\OneDrive\\\\Documents\\\\Trinity Dublin\\\\MSc Neuroscience\\\\Courses\\\\PRJ - final\\\\Project\\\\WHMSTS\\\\Data\\\\Group 1\\\\Processing\\\\ASD_ISC.csv')\n",
    "non_asd = pd.read_csv('C:\\\\Users\\\\theab\\\\OneDrive\\\\Documents\\\\Trinity Dublin\\\\MSc Neuroscience\\\\Courses\\\\PRJ - final\\\\Project\\\\WHMSTS\\\\Data\\\\Group 2\\\\Processing\\\\Non-ASD_ISC.csv')\n"
   ]
  },
  {
   "cell_type": "code",
   "execution_count": 3,
   "metadata": {},
   "outputs": [
    {
     "name": "stdout",
     "output_type": "stream",
     "text": [
      "Null Hypothesis: ASD and non-ASD cohorts have similar brain synchronisation\n",
      "Test statistic is -6.322010245033606\n",
      "p-value for two tailed test is 2.0803222450130836e-09\n",
      "Null hypothesis is rejected, hence ASD group != Non-ASD group\n"
     ]
    }
   ],
   "source": [
    "# Running 2 sample t-test\n",
    "\n",
    "print ('Null Hypothesis: ASD and non-ASD cohorts have similar brain synchronisation')\n",
    "\n",
    "t_value, p_value = stats.ttest_ind(asd['ISC'], non_asd['ISC'])\n",
    "\n",
    "print('Test statistic is', t_value)\n",
    "\n",
    "print('p-value for two tailed test is', p_value)\n",
    "\n",
    "alpha = 0.05\n",
    "\n",
    "if p_value <= alpha:\n",
    "\n",
    "    print ('Null hypothesis is rejected, hence ASD group != Non-ASD group')\n",
    "\n",
    "else:\n",
    "\n",
    "    print ('Null hypothesis is retained, hence ASD group = Non-ASD group')"
   ]
  }
 ],
 "metadata": {
  "interpreter": {
   "hash": "d484f0f0ad5311ba5ad83dceaa0136e26ea035c73ee95348b614b44de6e24d66"
  },
  "kernelspec": {
   "display_name": "Python 3.7.11",
   "language": "python",
   "name": "python3"
  },
  "language_info": {
   "codemirror_mode": {
    "name": "ipython",
    "version": 3
   },
   "file_extension": ".py",
   "mimetype": "text/x-python",
   "name": "python",
   "nbconvert_exporter": "python",
   "pygments_lexer": "ipython3",
   "version": "3.7.11"
  },
  "orig_nbformat": 4
 },
 "nbformat": 4,
 "nbformat_minor": 2
}
