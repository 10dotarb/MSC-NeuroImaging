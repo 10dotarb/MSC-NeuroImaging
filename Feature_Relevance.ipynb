{
 "cells": [
  {
   "cell_type": "code",
   "execution_count": 1,
   "metadata": {},
   "outputs": [],
   "source": [
    "import numpy as np\n",
    "from scipy.stats import rankdata\n",
    "from matplotlib import pyplot as plt\n",
    "import pandas as pd\n",
    "import seaborn as sns\n",
    "from sklearn.manifold import TSNE\n",
    "from sklearn.model_selection import train_test_split\n",
    "from sklearn.ensemble import RandomForestClassifier\n",
    "\n",
    "%matplotlib inline\n"
   ]
  },
  {
   "cell_type": "code",
   "execution_count": 2,
   "metadata": {},
   "outputs": [],
   "source": [
    "# Data Directory\n",
    "\n",
    "# Path to data in my PC\n",
    "path = 'C:\\\\Users\\\\theab\\\\OneDrive\\\\Documents\\\\Trinity Dublin\\\\MSc Neuroscience\\\\Courses\\\\PRJ - final\\\\Project\\\\WHMSTS\\\\Code and Results\\\\Files\\\\Common\\\\Templates and Inputs\\\\Data.xlsx'\n",
    "\n",
    "data = pd.read_excel(path)\n",
    "\n",
    "# Participants\n",
    "participants = data['ID']\n",
    "\n",
    "# Group labels (For easy plotting)\n",
    "groups = data['Group']"
   ]
  },
  {
   "cell_type": "code",
   "execution_count": 3,
   "metadata": {},
   "outputs": [],
   "source": [
    "# Constructing a subject by subject matrix\n",
    "\n",
    "# Number of participants\n",
    "n_subs = len(participants)\n",
    "\n",
    "# Ranking the behaviour scores\n",
    "T1_SRS2_Total = rankdata(data['T1_SRS2_Total'])\n",
    "T1_SRS2_Awr = rankdata(data['T1_SRS2_Awr'])\n",
    "T1_SRS2_Cog = rankdata(data['T1_SRS2_Cog'])\n",
    "T1_SRS2_Com = rankdata(data['T1_SRS2_Com'])\n",
    "T1_SRS2_Mot = rankdata(data['T1_SRS2_Mot'])\n",
    "T1_SRS2_RRB = rankdata(data['T1_SRS2_RRB'])\n",
    "\n",
    "# Setting the default colours\n",
    "cmap = plt.cm.get_cmap('RdYlBu_r').copy()\n",
    "cmap.set_bad('#C0C0C0')\n",
    "\n",
    "# Function to sort n by n matrix\n",
    "def sort_square_mtx(mtx, vct):\n",
    "    inds = vct.argsort()\n",
    "    mtx_sorted = mtx.copy()\n",
    "    mtx_sorted = mtx_sorted[inds, :]\n",
    "    mtx_sorted = mtx_sorted[:, inds]\n",
    "\n",
    "    return mtx_sorted\n",
    "\n",
    "# Scaling the matrix from 0 to 1\n",
    "def scale_mtx(mtx):\n",
    "    return (mtx-np.min(mtx))/(np.max(mtx)-np.min(mtx))"
   ]
  },
  {
   "cell_type": "code",
   "execution_count": 4,
   "metadata": {},
   "outputs": [],
   "source": [
    "def nn_matrix(x):\n",
    "\n",
    "    # Initialising a similarity matrix\n",
    "    nn_mtx = np.zeros((n_subs, n_subs))\n",
    "    \n",
    "    # Calculating euclidean distance between each participant\n",
    "    for i in range(n_subs):\n",
    "        for j in range(n_subs):\n",
    "            if i < j:\n",
    "                # Euclidean distance between the behaviour scores\n",
    "                dist_ij = 1-(abs(x[i]-x[j])/n_subs)\n",
    "                nn_mtx[i, j] = dist_ij\n",
    "                nn_mtx[j, i] = dist_ij\n",
    "\n",
    "    # Scaling the distance matrix\n",
    "    nn_mtx = scale_mtx(nn_mtx)\n",
    "    # Setting diagonal to 1\n",
    "    np.fill_diagonal(nn_mtx, 1)\n",
    "\n",
    "    # Plotting\n",
    "    # fig, ax = plt.subplots()\n",
    "\n",
    "    # Draw heatmap\n",
    "    # sns.heatmap(sort_square_mtx(nn_mtx, x), ax=ax, cmap=cmap, square=True, cbar=True, xticklabels=False, yticklabels=False)\n",
    "    # ax.set_title(\"Nearest neighbor\\n(Model: Euclidean distance)\")\n",
    "\n",
    "    return nn_mtx"
   ]
  },
  {
   "cell_type": "code",
   "execution_count": 5,
   "metadata": {},
   "outputs": [],
   "source": [
    "def annak_matrix(x):\n",
    "\n",
    "    # Initialising a similarity matrix\n",
    "    annak_mtx = np.zeros((n_subs, n_subs))\n",
    "    \n",
    "    # Calculating euclidean distance between each participant\n",
    "    for i in range(n_subs):\n",
    "        for j in range(n_subs):\n",
    "            if i < j:\n",
    "                # Calculating distance between each i and j\n",
    "                dist_ij = np.mean([x[i]/n_subs, x[j]/n_subs])\n",
    "                annak_mtx[i, j] = dist_ij\n",
    "                annak_mtx[j, i] = dist_ij\n",
    "    \n",
    "    # Scaling the distance matrix\n",
    "    annak_mtx = scale_mtx(annak_mtx)\n",
    "    # Setting diagonal to 1\n",
    "    np.fill_diagonal(annak_mtx, 1)\n",
    "\n",
    "    # Plotting\n",
    "    # fig, ax = plt.subplots()\n",
    "\n",
    "    # Draw heatmap\n",
    "    # sns.heatmap(sort_square_mtx(annak_mtx, x), ax=ax, cmap=cmap, square=True, cbar=True, xticklabels=False, yticklabels=False)\n",
    "    # ax.set_title(\"Anna Karenina\\n(Model: Euclidean distance)\")\n",
    "\n",
    "    return annak_mtx"
   ]
  },
  {
   "cell_type": "code",
   "execution_count": 6,
   "metadata": {},
   "outputs": [],
   "source": [
    "def plot(x, y, z):\n",
    "\n",
    "    # Visualising behaviour data\n",
    "    list_of_matrices = [x, y]\n",
    "\n",
    "    # Defining subplots\n",
    "    fig, axes = plt.subplots(len(list_of_matrices), 2, figsize=(8, 10))\n",
    "\n",
    "    # Arranging subplots\n",
    "    for m, mtx in enumerate(list_of_matrices):\n",
    "        ax1 = axes[m, 0]\n",
    "        ax1.set_title('T1_SRS2 Distance Matrix')\n",
    "        ax2 = axes[m, 1]\n",
    "\n",
    "        # Draw heatmap\n",
    "        if m == 0:\n",
    "            cbar = True\n",
    "        else:\n",
    "            cbar = False\n",
    "\n",
    "        sns.heatmap(sort_square_mtx(mtx, z), ax=ax1, cmap=cmap, square=True, cbar=cbar, cbar_kws={'label': 'Similarity'}, xticklabels=False, yticklabels=False)\n",
    "\n",
    "        # t-SNE plot\n",
    "\n",
    "        # 1 - Similarity Score = Distance\n",
    "        isc_embedded = TSNE(n_components=2, metric=\"precomputed\").fit_transform(1 - mtx)\n",
    "\n",
    "        # Scatter plot\n",
    "        scatter_p = ax2.scatter(isc_embedded[:, 0], isc_embedded[:, 1], c=z, cmap=cmap)\n",
    "        ax2.set_xticks([])\n",
    "        ax2.set_yticks([])\n",
    "\n",
    "        if m == 0:\n",
    "            ax2.set_xlabel('Component 1')\n",
    "            ax2.set_ylabel('Component 2')\n",
    "        \n",
    "        ax2.axis('square')\n",
    "        ax2.set(xlim=ax2.get_xlim(), ylim=ax2.get_ylim())\n",
    "\n",
    "    cbar = fig.colorbar(scatter_p, ax=axes[0, 1], ticks=[-2, 2])\n",
    "    cbar.ax.set_yticklabels(['Low', 'High'])\n",
    "    cbar.set_label('Behavior score', labelpad=-5)\n",
    "\n",
    "    plt.tight_layout()\n"
   ]
  },
  {
   "cell_type": "code",
   "execution_count": 7,
   "metadata": {},
   "outputs": [
    {
     "data": {
      "text/html": [
       "<div>\n",
       "<style scoped>\n",
       "    .dataframe tbody tr th:only-of-type {\n",
       "        vertical-align: middle;\n",
       "    }\n",
       "\n",
       "    .dataframe tbody tr th {\n",
       "        vertical-align: top;\n",
       "    }\n",
       "\n",
       "    .dataframe thead th {\n",
       "        text-align: right;\n",
       "    }\n",
       "</style>\n",
       "<table border=\"1\" class=\"dataframe\">\n",
       "  <thead>\n",
       "    <tr style=\"text-align: right;\">\n",
       "      <th></th>\n",
       "      <th>total</th>\n",
       "      <th>awr</th>\n",
       "      <th>cog</th>\n",
       "      <th>com</th>\n",
       "      <th>mot</th>\n",
       "      <th>rrb</th>\n",
       "      <th>target</th>\n",
       "    </tr>\n",
       "  </thead>\n",
       "  <tbody>\n",
       "    <tr>\n",
       "      <th>0</th>\n",
       "      <td>83</td>\n",
       "      <td>90</td>\n",
       "      <td>78</td>\n",
       "      <td>71</td>\n",
       "      <td>82</td>\n",
       "      <td>86</td>\n",
       "      <td>1</td>\n",
       "    </tr>\n",
       "    <tr>\n",
       "      <th>1</th>\n",
       "      <td>81</td>\n",
       "      <td>86</td>\n",
       "      <td>76</td>\n",
       "      <td>86</td>\n",
       "      <td>77</td>\n",
       "      <td>61</td>\n",
       "      <td>1</td>\n",
       "    </tr>\n",
       "    <tr>\n",
       "      <th>2</th>\n",
       "      <td>70</td>\n",
       "      <td>70</td>\n",
       "      <td>72</td>\n",
       "      <td>68</td>\n",
       "      <td>62</td>\n",
       "      <td>69</td>\n",
       "      <td>1</td>\n",
       "    </tr>\n",
       "    <tr>\n",
       "      <th>3</th>\n",
       "      <td>41</td>\n",
       "      <td>43</td>\n",
       "      <td>39</td>\n",
       "      <td>43</td>\n",
       "      <td>43</td>\n",
       "      <td>42</td>\n",
       "      <td>2</td>\n",
       "    </tr>\n",
       "    <tr>\n",
       "      <th>4</th>\n",
       "      <td>41</td>\n",
       "      <td>45</td>\n",
       "      <td>42</td>\n",
       "      <td>41</td>\n",
       "      <td>40</td>\n",
       "      <td>45</td>\n",
       "      <td>2</td>\n",
       "    </tr>\n",
       "  </tbody>\n",
       "</table>\n",
       "</div>"
      ],
      "text/plain": [
       "   total  awr  cog  com  mot  rrb  target\n",
       "0     83   90   78   71   82   86       1\n",
       "1     81   86   76   86   77   61       1\n",
       "2     70   70   72   68   62   69       1\n",
       "3     41   43   39   43   43   42       2\n",
       "4     41   45   42   41   40   45       2"
      ]
     },
     "execution_count": 7,
     "metadata": {},
     "output_type": "execute_result"
    }
   ],
   "source": [
    "# Loading the desired data in the dataframe\n",
    "\n",
    "classify = pd.DataFrame()\n",
    "classify['total'] = data['T1_SRS2_Total']\n",
    "classify['awr'] = data['T1_SRS2_Awr']\n",
    "classify['cog'] = data['T1_SRS2_Cog']\n",
    "classify['com'] = data['T1_SRS2_Com']\n",
    "classify['mot'] = data['T1_SRS2_Mot']\n",
    "classify['rrb'] = data['T1_SRS2_RRB']\n",
    "classify['target'] = groups\n",
    "classify.head()"
   ]
  },
  {
   "cell_type": "code",
   "execution_count": 8,
   "metadata": {},
   "outputs": [
    {
     "name": "stderr",
     "output_type": "stream",
     "text": [
      "C:\\Users\\theab\\anaconda3\\envs\\PRJ\\lib\\site-packages\\ipykernel_launcher.py:6: DeprecationWarning: `np.bool` is a deprecated alias for the builtin `bool`. To silence this warning, use `bool` by itself. Doing this will not modify any behavior and is safe. If you specifically wanted the numpy scalar type, use `np.bool_` here.\n",
      "Deprecated in NumPy 1.20; for more details and guidance: https://numpy.org/devdocs/release/1.20.0-notes.html#deprecations\n",
      "  \n"
     ]
    },
    {
     "data": {
      "text/plain": [
       "<AxesSubplot:>"
      ]
     },
     "execution_count": 8,
     "metadata": {},
     "output_type": "execute_result"
    },
    {
     "data": {
      "image/png": "[encoded data removed]",
      "text/plain": [
       "<Figure size 792x648 with 2 Axes>"
      ]
     },
     "metadata": {},
     "output_type": "display_data"
    }
   ],
   "source": [
    "# Computing pairwise correlations for the dataframe\n",
    "\n",
    "corr = classify.corr()\n",
    "\n",
    "# Visualising the data with seaborn\n",
    "mask = np.triu(np.ones_like(corr, dtype=np.bool))\n",
    "sns.set_style(style='white')\n",
    "f, ax = plt.subplots(figsize=(11, 9))\n",
    "cmap = sns.diverging_palette(10, 250, as_cmap=True)\n",
    "sns.heatmap(corr, mask=mask, cmap=cmap, square=True, linewidths=.5, cbar_kws={\"shrink\": .5}, ax=ax)"
   ]
  },
  {
   "cell_type": "code",
   "execution_count": 9,
   "metadata": {},
   "outputs": [
    {
     "data": {
      "image/png": "[encoded data removed]",
      "text/plain": [
       "<Figure size 720x1080 with 1 Axes>"
      ]
     },
     "metadata": {},
     "output_type": "display_data"
    }
   ],
   "source": [
    "# Finding the most relevant feature\n",
    "\n",
    "# Defining features\n",
    "features = classify.drop('target', axis=1).columns\n",
    "\n",
    "# Making dictionary for the multiple runs\n",
    "runs = {}\n",
    "for i in features:\n",
    "    runs[i] = []\n",
    "\n",
    "# Using Random Forest Classfier\n",
    "model = RandomForestClassifier(n_estimators=100, n_jobs=-1)\n",
    "\n",
    "count = 0\n",
    "while count <= 100:  # can be adjusted as per the need\n",
    "\n",
    "    # Splitting the set\n",
    "    X_train, X_test, y_train, y_test = train_test_split(\n",
    "        classify.drop('target', axis=1), classify['target'], test_size=0.20)\n",
    "    # Fitting the model\n",
    "    model.fit(X_train, y_train)\n",
    "    importances = model.feature_importances_\n",
    "    for i in runs:\n",
    "        dict_ind = list(runs.keys()).index(i)\n",
    "        runs[i].append(importances[dict_ind])\n",
    "    count = count + 1\n",
    "\n",
    "# Finding mean importance of each feature\n",
    "mean_imp = []\n",
    "for i in features:\n",
    "    mean_imp.append(np.mean(runs[i]))\n",
    "\n",
    "# List of features\n",
    "lf = list(features)\n",
    "\n",
    "# Plotting feature importances\n",
    "plt.figure(figsize=(10, 15))\n",
    "plt.title('Feature Importances')\n",
    "plt.bar(lf, mean_imp)\n",
    "plt.show()\n"
   ]
  },
  {
   "cell_type": "code",
   "execution_count": 10,
   "metadata": {},
   "outputs": [],
   "source": [
    "# T1_SRS2_Total\n",
    "\n",
    "# nn1 = nn_matrix(T1_SRS2_Total)\n",
    "# annak1 = annak_matrix(T1_SRS2_Total)\n",
    "# plot(nn1, annak1, T1_SRS2_Total)\n"
   ]
  },
  {
   "cell_type": "code",
   "execution_count": 11,
   "metadata": {},
   "outputs": [],
   "source": [
    "# T1_SRS2_Awr\n",
    "\n",
    "# nn2 = nn_matrix(T1_SRS2_Awr)\n",
    "# annak2 = annak_matrix(T1_SRS2_Awr)\n",
    "# plot(nn2, annak2, T1_SRS2_Awr)"
   ]
  },
  {
   "cell_type": "code",
   "execution_count": 12,
   "metadata": {},
   "outputs": [],
   "source": [
    "# T1_SRS2_Cog\n",
    "\n",
    "# nn3 = nn_matrix(T1_SRS2_Cog)\n",
    "# annak3 = annak_matrix(T1_SRS2_Cog)\n",
    "# plot(nn3, annak3, T1_SRS2_Cog)\n"
   ]
  },
  {
   "cell_type": "code",
   "execution_count": 16,
   "metadata": {},
   "outputs": [
    {
     "name": "stderr",
     "output_type": "stream",
     "text": [
      "C:\\Users\\theab\\anaconda3\\envs\\PRJ\\lib\\site-packages\\sklearn\\manifold\\_t_sne.py:699: FutureWarning: 'square_distances' has been introduced in 0.24 to help phase out legacy squaring behavior. The 'legacy' setting will be removed in 1.1 (renaming of 0.26), and the default setting will be changed to True. In 1.3, 'square_distances' will be removed altogether, and distances will be squared by default. Set 'square_distances'=True to silence this warning.\n",
      "  FutureWarning\n",
      "C:\\Users\\theab\\anaconda3\\envs\\PRJ\\lib\\site-packages\\sklearn\\manifold\\_t_sne.py:699: FutureWarning: 'square_distances' has been introduced in 0.24 to help phase out legacy squaring behavior. The 'legacy' setting will be removed in 1.1 (renaming of 0.26), and the default setting will be changed to True. In 1.3, 'square_distances' will be removed altogether, and distances will be squared by default. Set 'square_distances'=True to silence this warning.\n",
      "  FutureWarning\n"
     ]
    },
    {
     "data": {
      "image/png": "[encoded data removed]",
      "text/plain": [
       "<Figure size 576x720 with 6 Axes>"
      ]
     },
     "metadata": {},
     "output_type": "display_data"
    }
   ],
   "source": [
    "# T1_SRS2_Com\n",
    "\n",
    "nn4 = nn_matrix(T1_SRS2_Com)\n",
    "annak4 = annak_matrix(T1_SRS2_Com)\n",
    "plot(nn4, annak4, T1_SRS2_Com)"
   ]
  },
  {
   "cell_type": "code",
   "execution_count": 14,
   "metadata": {},
   "outputs": [],
   "source": [
    "# T1_SRS2_Mot\n",
    "\n",
    "# nn5 = nn_matrix(T1_SRS2_Mot)\n",
    "# annak5 = annak_matrix(T1_SRS2_Mot)\n",
    "# plot(nn5, annak5, T1_SRS2_Mot)"
   ]
  },
  {
   "cell_type": "code",
   "execution_count": 15,
   "metadata": {},
   "outputs": [],
   "source": [
    "# T1_SRS2_RRB\n",
    "\n",
    "# nn6 = nn_matrix(T1_SRS2_RRB)\n",
    "# annak6 = annak_matrix(T1_SRS2_RRB)\n",
    "# plot(nn6, annak6, T1_SRS2_RRB)"
   ]
  }
 ],
 "metadata": {
  "interpreter": {
   "hash": "d484f0f0ad5311ba5ad83dceaa0136e26ea035c73ee95348b614b44de6e24d66"
  },
  "kernelspec": {
   "display_name": "Python 3.7.11",
   "language": "python",
   "name": "python3"
  },
  "language_info": {
   "codemirror_mode": {
    "name": "ipython",
    "version": 3
   },
   "file_extension": ".py",
   "mimetype": "text/x-python",
   "name": "python",
   "nbconvert_exporter": "python",
   "pygments_lexer": "ipython3",
   "version": "3.7.11"
  },
  "orig_nbformat": 4
 },
 "nbformat": 4,
 "nbformat_minor": 2
}
