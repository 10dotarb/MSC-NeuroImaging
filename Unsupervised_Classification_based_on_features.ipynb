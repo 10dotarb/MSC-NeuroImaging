{
 "cells": [
  {
   "cell_type": "code",
   "execution_count": 1,
   "metadata": {},
   "outputs": [],
   "source": [
    "# Date: 04/04/2021\n",
    "# Location: Imaging Mind Architecture Lab, Trinity College Dublin\n",
    "# Unsupervised classification\n",
    "\n",
    "# Loading all the libraries\n",
    "\n",
    "import matplotlib.patheffects as PathEffects\n",
    "import matplotlib.pyplot as plt\n",
    "import seaborn as sns\n",
    "import numpy as np\n",
    "import pandas as pd\n",
    "from sklearn import preprocessing, decomposition, manifold\n",
    "\n",
    "%matplotlib inline\n"
   ]
  },
  {
   "cell_type": "code",
   "execution_count": 2,
   "metadata": {},
   "outputs": [
    {
     "data": {
      "text/html": [
       "<div>\n",
       "<style scoped>\n",
       "    .dataframe tbody tr th:only-of-type {\n",
       "        vertical-align: middle;\n",
       "    }\n",
       "\n",
       "    .dataframe tbody tr th {\n",
       "        vertical-align: top;\n",
       "    }\n",
       "\n",
       "    .dataframe thead th {\n",
       "        text-align: right;\n",
       "    }\n",
       "</style>\n",
       "<table border=\"1\" class=\"dataframe\">\n",
       "  <thead>\n",
       "    <tr style=\"text-align: right;\">\n",
       "      <th></th>\n",
       "      <th>S. No.</th>\n",
       "      <th>ID</th>\n",
       "      <th>Group</th>\n",
       "      <th>Inclusion</th>\n",
       "      <th>Gender</th>\n",
       "      <th>WASIFISQ4</th>\n",
       "      <th>Age</th>\n",
       "      <th>ADOSModule</th>\n",
       "      <th>ADOS3_SATotal</th>\n",
       "      <th>ADOS3_RRBTotal</th>\n",
       "      <th>...</th>\n",
       "      <th>T1_PRMPCD</th>\n",
       "      <th>T1_PRMPCI</th>\n",
       "      <th>T1_SSPFSL</th>\n",
       "      <th>T1_VRMDRTC</th>\n",
       "      <th>T2_PRMMCLD</th>\n",
       "      <th>T2_PRMMCLI</th>\n",
       "      <th>T2_PRMPCD</th>\n",
       "      <th>T2_PRMPCI</th>\n",
       "      <th>T2_SSPFSL</th>\n",
       "      <th>T2_VRMDRTC</th>\n",
       "    </tr>\n",
       "  </thead>\n",
       "  <tbody>\n",
       "    <tr>\n",
       "      <th>0</th>\n",
       "      <td>0</td>\n",
       "      <td>1001</td>\n",
       "      <td>0</td>\n",
       "      <td>1</td>\n",
       "      <td>2</td>\n",
       "      <td>92.0</td>\n",
       "      <td>13.96</td>\n",
       "      <td>3.0</td>\n",
       "      <td>15.0</td>\n",
       "      <td>2.0</td>\n",
       "      <td>...</td>\n",
       "      <td>66.67</td>\n",
       "      <td>100.00</td>\n",
       "      <td>5.0</td>\n",
       "      <td>33.0</td>\n",
       "      <td>1777.92</td>\n",
       "      <td>1055.17</td>\n",
       "      <td>100.0</td>\n",
       "      <td>100.0</td>\n",
       "      <td>5.0</td>\n",
       "      <td>30.0</td>\n",
       "    </tr>\n",
       "    <tr>\n",
       "      <th>1</th>\n",
       "      <td>2</td>\n",
       "      <td>1003</td>\n",
       "      <td>0</td>\n",
       "      <td>1</td>\n",
       "      <td>1</td>\n",
       "      <td>87.0</td>\n",
       "      <td>16.17</td>\n",
       "      <td>3.0</td>\n",
       "      <td>11.0</td>\n",
       "      <td>0.0</td>\n",
       "      <td>...</td>\n",
       "      <td>100.00</td>\n",
       "      <td>100.00</td>\n",
       "      <td>7.0</td>\n",
       "      <td>31.0</td>\n",
       "      <td>1880.67</td>\n",
       "      <td>1700.67</td>\n",
       "      <td>75.0</td>\n",
       "      <td>100.0</td>\n",
       "      <td>8.0</td>\n",
       "      <td>33.0</td>\n",
       "    </tr>\n",
       "    <tr>\n",
       "      <th>2</th>\n",
       "      <td>3</td>\n",
       "      <td>1004</td>\n",
       "      <td>0</td>\n",
       "      <td>1</td>\n",
       "      <td>1</td>\n",
       "      <td>113.0</td>\n",
       "      <td>14.67</td>\n",
       "      <td>3.0</td>\n",
       "      <td>10.0</td>\n",
       "      <td>0.0</td>\n",
       "      <td>...</td>\n",
       "      <td>100.00</td>\n",
       "      <td>91.67</td>\n",
       "      <td>9.0</td>\n",
       "      <td>36.0</td>\n",
       "      <td>1903.92</td>\n",
       "      <td>1211.08</td>\n",
       "      <td>100.0</td>\n",
       "      <td>100.0</td>\n",
       "      <td>9.0</td>\n",
       "      <td>33.0</td>\n",
       "    </tr>\n",
       "    <tr>\n",
       "      <th>3</th>\n",
       "      <td>8</td>\n",
       "      <td>1009</td>\n",
       "      <td>1</td>\n",
       "      <td>2</td>\n",
       "      <td>2</td>\n",
       "      <td>116.0</td>\n",
       "      <td>16.67</td>\n",
       "      <td>NaN</td>\n",
       "      <td>NaN</td>\n",
       "      <td>NaN</td>\n",
       "      <td>...</td>\n",
       "      <td>NaN</td>\n",
       "      <td>NaN</td>\n",
       "      <td>NaN</td>\n",
       "      <td>NaN</td>\n",
       "      <td>NaN</td>\n",
       "      <td>NaN</td>\n",
       "      <td>NaN</td>\n",
       "      <td>NaN</td>\n",
       "      <td>NaN</td>\n",
       "      <td>NaN</td>\n",
       "    </tr>\n",
       "    <tr>\n",
       "      <th>4</th>\n",
       "      <td>9</td>\n",
       "      <td>1010</td>\n",
       "      <td>1</td>\n",
       "      <td>2</td>\n",
       "      <td>1</td>\n",
       "      <td>119.0</td>\n",
       "      <td>15.92</td>\n",
       "      <td>NaN</td>\n",
       "      <td>NaN</td>\n",
       "      <td>NaN</td>\n",
       "      <td>...</td>\n",
       "      <td>NaN</td>\n",
       "      <td>NaN</td>\n",
       "      <td>NaN</td>\n",
       "      <td>NaN</td>\n",
       "      <td>NaN</td>\n",
       "      <td>NaN</td>\n",
       "      <td>NaN</td>\n",
       "      <td>NaN</td>\n",
       "      <td>NaN</td>\n",
       "      <td>NaN</td>\n",
       "    </tr>\n",
       "  </tbody>\n",
       "</table>\n",
       "<p>5 rows × 179 columns</p>\n",
       "</div>"
      ],
      "text/plain": [
       "   S. No.    ID  Group  Inclusion  Gender  WASIFISQ4    Age  ADOSModule  \\\n",
       "0       0  1001      0          1       2       92.0  13.96         3.0   \n",
       "1       2  1003      0          1       1       87.0  16.17         3.0   \n",
       "2       3  1004      0          1       1      113.0  14.67         3.0   \n",
       "3       8  1009      1          2       2      116.0  16.67         NaN   \n",
       "4       9  1010      1          2       1      119.0  15.92         NaN   \n",
       "\n",
       "   ADOS3_SATotal  ADOS3_RRBTotal  ...  T1_PRMPCD  T1_PRMPCI  T1_SSPFSL  \\\n",
       "0           15.0             2.0  ...      66.67     100.00        5.0   \n",
       "1           11.0             0.0  ...     100.00     100.00        7.0   \n",
       "2           10.0             0.0  ...     100.00      91.67        9.0   \n",
       "3            NaN             NaN  ...        NaN        NaN        NaN   \n",
       "4            NaN             NaN  ...        NaN        NaN        NaN   \n",
       "\n",
       "   T1_VRMDRTC  T2_PRMMCLD  T2_PRMMCLI  T2_PRMPCD  T2_PRMPCI  T2_SSPFSL  \\\n",
       "0        33.0     1777.92     1055.17      100.0      100.0        5.0   \n",
       "1        31.0     1880.67     1700.67       75.0      100.0        8.0   \n",
       "2        36.0     1903.92     1211.08      100.0      100.0        9.0   \n",
       "3         NaN         NaN         NaN        NaN        NaN        NaN   \n",
       "4         NaN         NaN         NaN        NaN        NaN        NaN   \n",
       "\n",
       "   T2_VRMDRTC  \n",
       "0        30.0  \n",
       "1        33.0  \n",
       "2        33.0  \n",
       "3         NaN  \n",
       "4         NaN  \n",
       "\n",
       "[5 rows x 179 columns]"
      ]
     },
     "execution_count": 2,
     "metadata": {},
     "output_type": "execute_result"
    }
   ],
   "source": [
    "# Data Directory\n",
    "\n",
    "# Path to data in my PC\n",
    "path = 'C:\\\\Users\\\\theab\\\\OneDrive\\\\Documents\\\\Trinity Dublin\\\\MSc Neuroscience\\\\Courses\\\\PRJ - final\\\\Project\\\\WHMSTS\\\\Code and Results\\\\Files\\\\Common\\\\Templates and Inputs\\\\Data.xlsx'\n",
    "\n",
    "data = pd.read_excel(path)\n",
    "\n",
    "# Participants\n",
    "participants = data['ID']\n",
    "\n",
    "# Defining parameters\n",
    "features = np.array(['T1_SRS2_Awr', 'T1_SRS2_Cog', 'T1_SRS2_Com', 'T1_SRS2_Mot', 'T1_SRS2_RRB'])\n",
    "\n",
    "# Group labels (For easy plotting)\n",
    "groups = data['Group']\n",
    "groups.replace(1, 0,inplace=True) # ASD Group\n",
    "groups.replace(2, 1,inplace=True) # Non-ASD Group\n",
    "\n",
    "data.head()\n"
   ]
  },
  {
   "cell_type": "code",
   "execution_count": 3,
   "metadata": {},
   "outputs": [
    {
     "name": "stdout",
     "output_type": "stream",
     "text": [
      "PCA Output Shape: (51, 2)\n"
     ]
    }
   ],
   "source": [
    "# Standardisation and Initialising using PCA\n",
    "\n",
    "# Scaling data to normal distribution\n",
    "standard_data = preprocessing.StandardScaler().fit_transform(data.loc[:, features].values)\n",
    "# Perform PCA (to visualise global structure)\n",
    "pca = decomposition.PCA(n_components = 2)\n",
    "\n",
    "# Initialising via pca for better seggregation of clusters\n",
    "pca_init = pca.fit_transform(standard_data)\n",
    "print ('PCA Output Shape:', pca_init.shape)"
   ]
  },
  {
   "cell_type": "code",
   "execution_count": 4,
   "metadata": {},
   "outputs": [
    {
     "name": "stdout",
     "output_type": "stream",
     "text": [
      "Variance explained per principal component: [0.88433372 0.0561919 ]\n"
     ]
    }
   ],
   "source": [
    "# Explanation  of variance via PCA\n",
    "\n",
    "# Dataframe of PCA components\n",
    "pca_stats = pd.DataFrame(columns=['PCA Component 1', 'PCA Component 2'])\n",
    "\n",
    "pca_stats['PCA Component 1'] = pca_init[:, 0]\n",
    "pca_stats['PCA Component 2'] = pca_init[:, 1]\n",
    "\n",
    "# Inbuilt function to explain the variance by each component\n",
    "print('Variance explained per principal component: {}'.format(pca.explained_variance_ratio_))\n"
   ]
  },
  {
   "cell_type": "code",
   "execution_count": 5,
   "metadata": {},
   "outputs": [],
   "source": [
    "# t-SNE on standardised data (to visualise local structures)\n",
    "\n",
    "tSNE = manifold.TSNE(method='exact').fit_transform(standard_data) #method = 'exact', because the sample size in small"
   ]
  },
  {
   "cell_type": "code",
   "execution_count": 6,
   "metadata": {},
   "outputs": [],
   "source": [
    "# t-SNE on PCA output (For better grouping, according to literature)\n",
    "\n",
    "pca_tSNE = manifold.TSNE(method='exact').fit_transform(pca_init)\n"
   ]
  },
  {
   "cell_type": "code",
   "execution_count": 7,
   "metadata": {},
   "outputs": [],
   "source": [
    "# Function to visualize the outputs of PCA and t-SNE\n",
    "\n",
    "def scatter(x, colors):\n",
    "\n",
    "    # Selecting color palette\n",
    "    num_classes = len(np.unique(colors))\n",
    "    palette = np.array(sns.color_palette(\"hls\", num_classes))\n",
    "\n",
    "    # Generating scatter plot\n",
    "    f = plt.figure(figsize=(8, 8))\n",
    "    ax = plt.subplot(aspect='equal')\n",
    "    sc = ax.scatter(x[:, 0], x[:, 1], lw=0, s=40, c=palette[colors.astype(int)])\n",
    "    plt.xlim(-25, 25)\n",
    "    plt.ylim(-25, 25)\n",
    "    # ax.axis('off')\n",
    "    ax.axis('tight')\n",
    "\n",
    "    # Adding the labels for each group\n",
    "    txts = []\n",
    "    g_label = ['ASD', 'Non-ASD']\n",
    "\n",
    "    for i in range(num_classes):\n",
    "\n",
    "        # Position of each label at median of data points\n",
    "\n",
    "        xtext, ytext = np.median(x[colors == i, :], axis=0)\n",
    "        txt = ax.text(xtext, ytext, str(g_label[i]), fontsize=20)\n",
    "        txt.set_path_effects([PathEffects.Stroke(linewidth=5, foreground=\"w\"), PathEffects.Normal()])\n",
    "        txts.append(txt)\n",
    "\n",
    "    return f, ax, sc, txts\n"
   ]
  },
  {
   "cell_type": "code",
   "execution_count": 8,
   "metadata": {},
   "outputs": [
    {
     "data": {
      "text/plain": [
       "(<Figure size 576x576 with 1 Axes>,\n",
       " <AxesSubplot:>,\n",
       " <matplotlib.collections.PathCollection at 0x1c3f1c68d08>,\n",
       " [Text(2.009476564884023, -0.047356864541004746, 'ASD'),\n",
       "  Text(-2.2120384093141894, 0.011994642814490433, 'Non-ASD')])"
      ]
     },
     "execution_count": 8,
     "metadata": {},
     "output_type": "execute_result"
    },
    {
     "data": {
      "image/png": "[encoded data removed]",
      "text/plain": [
       "<Figure size 576x576 with 1 Axes>"
      ]
     },
     "metadata": {
      "needs_background": "light"
     },
     "output_type": "display_data"
    }
   ],
   "source": [
    "# Visualising PCA\n",
    "\n",
    "components = pca_stats[['PCA Component 1', 'PCA Component 2']]\n",
    "\n",
    "# Plotting scatter plot\n",
    "scatter(components.values, groups)"
   ]
  },
  {
   "cell_type": "code",
   "execution_count": 9,
   "metadata": {},
   "outputs": [
    {
     "data": {
      "text/plain": [
       "(<Figure size 576x576 with 1 Axes>,\n",
       " <AxesSubplot:>,\n",
       " <matplotlib.collections.PathCollection at 0x1c3f1c02988>,\n",
       " [Text(-5.966506, -58.500645, 'ASD'), Text(7.314875, 51.151863, 'Non-ASD')])"
      ]
     },
     "execution_count": 9,
     "metadata": {},
     "output_type": "execute_result"
    },
    {
     "data": {
      "image/png": "[encoded data removed]",
      "text/plain": [
       "<Figure size 576x576 with 1 Axes>"
      ]
     },
     "metadata": {
      "needs_background": "light"
     },
     "output_type": "display_data"
    }
   ],
   "source": [
    "# Visualising t-SNE on standardised data\n",
    "\n",
    "scatter(tSNE, groups)"
   ]
  },
  {
   "cell_type": "code",
   "execution_count": 10,
   "metadata": {},
   "outputs": [
    {
     "data": {
      "text/plain": [
       "(<Figure size 576x576 with 1 Axes>,\n",
       " <AxesSubplot:>,\n",
       " <matplotlib.collections.PathCollection at 0x1c3f25ecd88>,\n",
       " [Text(-51.798508, 9.863752, 'ASD'), Text(80.18008, -21.78344, 'Non-ASD')])"
      ]
     },
     "execution_count": 10,
     "metadata": {},
     "output_type": "execute_result"
    },
    {
     "data": {
      "image/png": "[encoded data removed]",
      "text/plain": [
       "<Figure size 576x576 with 1 Axes>"
      ]
     },
     "metadata": {
      "needs_background": "light"
     },
     "output_type": "display_data"
    }
   ],
   "source": [
    "# Visualising t-SNE on data initialised by PCA\n",
    "\n",
    "scatter(pca_tSNE, groups)"
   ]
  },
  {
   "cell_type": "code",
   "execution_count": null,
   "metadata": {},
   "outputs": [],
   "source": []
  }
 ],
 "metadata": {
  "interpreter": {
   "hash": "3563684c831e6410caa4b118e2ed088ce3b367029c8ca5f50eee213722e2d58b"
  },
  "kernelspec": {
   "display_name": "Python 3.9.7 64-bit",
   "language": "python",
   "name": "python3"
  },
  "language_info": {
   "codemirror_mode": {
    "name": "ipython",
    "version": 3
   },
   "file_extension": ".py",
   "mimetype": "text/x-python",
   "name": "python",
   "nbconvert_exporter": "python",
   "pygments_lexer": "ipython3",
   "version": "3.7.11"
  },
  "orig_nbformat": 4
 },
 "nbformat": 4,
 "nbformat_minor": 2
}
