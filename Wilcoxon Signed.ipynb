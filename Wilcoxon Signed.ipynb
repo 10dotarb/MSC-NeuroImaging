{
 "cells": [
  {
   "cell_type": "code",
   "execution_count": 1,
   "metadata": {},
   "outputs": [],
   "source": [
    "import pandas as pd\n",
    "import numpy as np"
   ]
  },
  {
   "cell_type": "code",
   "execution_count": 2,
   "metadata": {},
   "outputs": [],
   "source": [
    "\n",
    "path_globm = 'C:\\\\Users\\\\theab\\\\Documents\\\\Trinity Dublin\\\\MSc Neuroscience\\\\Courses\\\\PRJ - final\\\\Project\\\\WHMSTS\\\\Code and Results\\\\Files\\\\Common\\\\Global_Mean_ISC.csv'\n",
    "\n",
    "globm = pd.read_csv(path_globm)\n",
    "asd = globm['ASD'][0:29]\n",
    "nasd = globm['Non_ASD'][0:22]\n",
    "m_asd = np.mean(asd)\n",
    "m_nasd = np.mean(nasd)"
   ]
  },
  {
   "cell_type": "code",
   "execution_count": 3,
   "metadata": {},
   "outputs": [
    {
     "name": "stdout",
     "output_type": "stream",
     "text": [
      "0.02647809961951086 0.05975135485419052\n",
      "0.040831268544274636\n"
     ]
    }
   ],
   "source": [
    "print(m_asd, m_nasd)\n",
    "all = pd.concat((asd, nasd), axis=0)\n",
    "print(np.mean(all))"
   ]
  },
  {
   "cell_type": "code",
   "execution_count": 6,
   "metadata": {},
   "outputs": [],
   "source": [
    "asd_nasd = [] #29\n",
    "nasd_asd = [] #22\n",
    "\n",
    "for i in asd:\n",
    "    dist = np.linalg.norm((np.array([i]*len(nasd)), np.array(nasd)), axis = 0)\n",
    "    asd_nasd.append(np.mean(dist))\n",
    "for i in nasd:\n",
    "    dist = np.linalg.norm((np.array([i]*len(asd)), np.array(asd)), axis=0)\n",
    "    nasd_asd.append(np.mean(dist))"
   ]
  },
  {
   "cell_type": "code",
   "execution_count": 7,
   "metadata": {},
   "outputs": [],
   "source": [
    "asd_asd = [] #29\n",
    "nasd_nasd =[] #22\n",
    "\n",
    "for i in asd:\n",
    "    dist = np.linalg.norm((np.array([i]*len(asd)), np.array(asd)), axis=0)\n",
    "    asd_asd.append(np.mean(dist))\n",
    "for i in nasd:\n",
    "    dist = np.linalg.norm((np.array([i]*len(nasd)), np.array(nasd)), axis=0)\n",
    "    nasd_nasd.append(np.mean(dist))"
   ]
  },
  {
   "cell_type": "code",
   "execution_count": 8,
   "metadata": {},
   "outputs": [
    {
     "name": "stdout",
     "output_type": "stream",
     "text": [
      "WilcoxonResult(statistic=0.0, pvalue=2.5630832507250074e-06)\n",
      "WilcoxonResult(statistic=0.0, pvalue=4.76837158203125e-07)\n"
     ]
    }
   ],
   "source": [
    "import scipy.stats as stats\n",
    "\n",
    "asd_asd_vs_asd_nasd = stats.wilcoxon(asd_asd, asd_nasd)\n",
    "nasd_nasd_vs_nasd_asd = stats.wilcoxon(nasd_nasd, nasd_asd)\n",
    "\n",
    "print (asd_asd_vs_asd_nasd)\n",
    "print (nasd_nasd_vs_nasd_asd)"
   ]
  },
  {
   "cell_type": "code",
   "execution_count": 9,
   "metadata": {},
   "outputs": [],
   "source": [
    "# asd_asd vs asd_nasd\n",
    "\n",
    "# W-value: 0\n",
    "# Mean Difference: -0.03\n",
    "# Sum of pos. ranks: 0\n",
    "# Sum of neg. ranks: 435\n",
    "\n",
    "# Z-value: -4.703\n",
    "# Mean(W): 217.5\n",
    "# Standard Deviation(W): 46.25\n",
    "\n",
    "# Sample Size(N): 29"
   ]
  },
  {
   "cell_type": "code",
   "execution_count": 10,
   "metadata": {},
   "outputs": [],
   "source": [
    "# nasd_nasd vs nasd_asd\n",
    "\n",
    "# W-value: 0\n",
    "# Mean Difference: 0.01\n",
    "# Sum of pos. ranks: 253\n",
    "# Sum of neg. ranks: 0\n",
    "\n",
    "# Z-value: -4.1069\n",
    "# Mean(W): 126.5\n",
    "# Standard Deviation(W): 30.8\n",
    "\n",
    "# Sample Size(N): 22\n"
   ]
  }
 ],
 "metadata": {
  "kernelspec": {
   "display_name": "PRJ",
   "language": "python",
   "name": "prj"
  },
  "language_info": {
   "codemirror_mode": {
    "name": "ipython",
    "version": 3
   },
   "file_extension": ".py",
   "mimetype": "text/x-python",
   "name": "python",
   "nbconvert_exporter": "python",
   "pygments_lexer": "ipython3",
   "version": "3.8.8"
  },
  "orig_nbformat": 4,
  "vscode": {
   "interpreter": {
    "hash": "e050d361fae512fbc94994ff245df9240147d5eacfdbd2afeed6eef9edef7123"
   }
  }
 },
 "nbformat": 4,
 "nbformat_minor": 2
}
