{
 "cells": [
  {
   "cell_type": "code",
   "execution_count": 1,
   "metadata": {},
   "outputs": [],
   "source": [
    "import pandas as pd\n",
    "from sklearn import linear_model\n",
    "import statsmodels.api as sm\n"
   ]
  },
  {
   "cell_type": "code",
   "execution_count": 2,
   "metadata": {},
   "outputs": [],
   "source": [
    "path_globm = 'C:\\\\Users\\\\theab\\\\Documents\\\\Trinity Dublin\\\\MSc Neuroscience\\\\Courses\\\\PRJ - final\\\\Project\\\\WHMSTS\\\\Code and Results\\\\Files\\\\Common\\\\Global_Mean_ISC.csv'\n",
    "\n",
    "globm = pd.read_csv(path_globm)\n",
    "asd = globm['ASD']\n",
    "nasd = globm['Non_ASD']\n",
    "\n",
    "\n",
    "path_ASD_data = 'C:\\\\Users\\\\theab\\\\Documents\\\\Trinity Dublin\\\\MSc Neuroscience\\\\Courses\\\\PRJ - final\\\\Project\\\\WHMSTS\\\\Code and Results\\\\Files\\\\ASD\\\\ASD_Raw_Data.xlsx'\n",
    "path_Non_ASD_data = 'C:\\\\Users\\\\theab\\\\Documents\\\\Trinity Dublin\\\\MSc Neuroscience\\\\Courses\\\\PRJ - final\\\\Project\\\\WHMSTS\\\\Code and Results\\\\Files\\\\Non_ASD\\\\Non_ASD_Raw_Data.xlsx'\n",
    "\n",
    "data_ASD = pd.read_excel(path_ASD_data)\n",
    "data_Non_ASD = pd.read_excel(path_Non_ASD_data)\n",
    "\n",
    "data_all = pd.concat((data_ASD, data_Non_ASD), axis=0)\n",
    "globm_all = pd.concat((asd[0:29], nasd[0:22]), axis=0)"
   ]
  },
  {
   "cell_type": "code",
   "execution_count": 3,
   "metadata": {},
   "outputs": [],
   "source": [
    "X_all = data_all[['Gender', 'Age', 'T1_SRS2_Awr', 'T1_SRS2_Cog', 'T1_SRS2_Com', 'T1_SRS2_Mot', 'T1_SRS2_RRB']]\n",
    "y_all = globm_all\n",
    "\n",
    "regr = linear_model.LinearRegression()\n",
    "\n",
    "regr.fit(X_all, y_all)\n",
    "\n",
    "regr_all = regr.coef_\n",
    "regr_int = regr.intercept_\n",
    "\n",
    "pred = regr.predict(X_all)"
   ]
  },
  {
   "cell_type": "code",
   "execution_count": 4,
   "metadata": {},
   "outputs": [
    {
     "name": "stdout",
     "output_type": "stream",
     "text": [
      "                            OLS Regression Results                            \n",
      "==============================================================================\n",
      "Dep. Variable:                      y   R-squared:                       0.512\n",
      "Model:                            OLS   Adj. R-squared:                  0.433\n",
      "Method:                 Least Squares   F-statistic:                     6.450\n",
      "Date:                Mon, 20 Jun 2022   Prob (F-statistic):           3.24e-05\n",
      "Time:                        21:55:16   Log-Likelihood:                 136.85\n",
      "No. Observations:                  51   AIC:                            -257.7\n",
      "Df Residuals:                      43   BIC:                            -242.2\n",
      "Df Model:                           7                                         \n",
      "Covariance Type:            nonrobust                                         \n",
      "===============================================================================\n",
      "                  coef    std err          t      P>|t|      [0.025      0.975]\n",
      "-------------------------------------------------------------------------------\n",
      "const           0.0877      0.030      2.929      0.005       0.027       0.148\n",
      "Gender          0.0181      0.007      2.773      0.008       0.005       0.031\n",
      "Age            -0.0003      0.002     -0.139      0.890      -0.004       0.004\n",
      "T1_SRS2_Awr  9.329e-05      0.000      0.327      0.746      -0.000       0.001\n",
      "T1_SRS2_Cog     0.0006      0.000      1.374      0.177      -0.000       0.002\n",
      "T1_SRS2_Com    -0.0002      0.000     -0.555      0.582      -0.001       0.001\n",
      "T1_SRS2_Mot    -0.0007      0.000     -1.875      0.068      -0.002    5.49e-05\n",
      "T1_SRS2_RRB    -0.0007      0.000     -1.891      0.065      -0.002    4.89e-05\n",
      "==============================================================================\n",
      "Omnibus:                        1.586   Durbin-Watson:                   2.012\n",
      "Prob(Omnibus):                  0.452   Jarque-Bera (JB):                0.794\n",
      "Skew:                          -0.178   Prob(JB):                        0.672\n",
      "Kurtosis:                       3.496   Cond. No.                     1.72e+03\n",
      "==============================================================================\n",
      "\n",
      "Notes:\n",
      "[1] Standard Errors assume that the covariance matrix of the errors is correctly specified.\n",
      "[2] The condition number is large, 1.72e+03. This might indicate that there are\n",
      "strong multicollinearity or other numerical problems.\n"
     ]
    },
    {
     "name": "stderr",
     "output_type": "stream",
     "text": [
      "c:\\Users\\theab\\anaconda3\\envs\\PRJ\\lib\\site-packages\\statsmodels\\tsa\\tsatools.py:142: FutureWarning: In a future version of pandas all arguments of concat except for the argument 'objs' will be keyword-only\n",
      "  x = pd.concat(x[::order], 1)\n"
     ]
    }
   ],
   "source": [
    "X2 = sm.add_constant(X_all)\n",
    "est = sm.OLS(y_all, X2)\n",
    "est2 = est.fit()\n",
    "print(est2.summary())\n"
   ]
  },
  {
   "cell_type": "code",
   "execution_count": 6,
   "metadata": {},
   "outputs": [],
   "source": [
    "mult_reg = pd.DataFrame()\n",
    "mult_reg['Regressors'] = ['Gender', 'Age', 'T1_SRS2_Awr', 'T1_SRS2_Cog', 'T1_SRS2_Com', 'T1_SRS2_Mot', 'T1_SRS2_RRB']\n",
    "mult_reg['Coefficients'] = regr_all\n",
    "mult_reg['Intercept'] = regr_int\n"
   ]
  },
  {
   "cell_type": "code",
   "execution_count": 7,
   "metadata": {},
   "outputs": [
    {
     "name": "stdout",
     "output_type": "stream",
     "text": [
      "    Regressors  Coefficients  Intercept\n",
      "0       Gender      0.018122    0.08768\n",
      "1          Age     -0.000266    0.08768\n",
      "2  T1_SRS2_Awr      0.000093    0.08768\n",
      "3  T1_SRS2_Cog      0.000611    0.08768\n",
      "4  T1_SRS2_Com     -0.000250    0.08768\n",
      "5  T1_SRS2_Mot     -0.000725    0.08768\n",
      "6  T1_SRS2_RRB     -0.000733    0.08768\n"
     ]
    }
   ],
   "source": [
    "print (mult_reg)"
   ]
  },
  {
   "cell_type": "code",
   "execution_count": null,
   "metadata": {},
   "outputs": [],
   "source": [
    "# mult_reg.to_csv('C:\\\\Users\\\\theab\\\\Documents\\\\Trinity Dublin\\\\MSc Neuroscience\\\\Courses\\\\PRJ - final\\\\Project\\\\WHMSTS\\\\Code and Results\\\\Files\\\\Common\\\\Multiple_Regression_all.csv', index=False)\n"
   ]
  },
  {
   "cell_type": "code",
   "execution_count": 9,
   "metadata": {},
   "outputs": [
    {
     "data": {
      "text/html": [
       "<div>\n",
       "<style scoped>\n",
       "    .dataframe tbody tr th:only-of-type {\n",
       "        vertical-align: middle;\n",
       "    }\n",
       "\n",
       "    .dataframe tbody tr th {\n",
       "        vertical-align: top;\n",
       "    }\n",
       "\n",
       "    .dataframe thead th {\n",
       "        text-align: right;\n",
       "    }\n",
       "</style>\n",
       "<table border=\"1\" class=\"dataframe\">\n",
       "  <thead>\n",
       "    <tr style=\"text-align: right;\">\n",
       "      <th></th>\n",
       "      <th>Gender</th>\n",
       "      <th>Age</th>\n",
       "      <th>T1_SRS2_Awr</th>\n",
       "      <th>T1_SRS2_Cog</th>\n",
       "      <th>T1_SRS2_Com</th>\n",
       "      <th>T1_SRS2_Mot</th>\n",
       "      <th>T1_SRS2_RRB</th>\n",
       "    </tr>\n",
       "  </thead>\n",
       "  <tbody>\n",
       "    <tr>\n",
       "      <th>Gender</th>\n",
       "      <td>1.000000</td>\n",
       "      <td>0.042109</td>\n",
       "      <td>0.124955</td>\n",
       "      <td>0.149134</td>\n",
       "      <td>0.124805</td>\n",
       "      <td>0.287000</td>\n",
       "      <td>0.131455</td>\n",
       "    </tr>\n",
       "    <tr>\n",
       "      <th>Age</th>\n",
       "      <td>0.042109</td>\n",
       "      <td>1.000000</td>\n",
       "      <td>-0.008979</td>\n",
       "      <td>-0.021721</td>\n",
       "      <td>0.055554</td>\n",
       "      <td>0.093344</td>\n",
       "      <td>0.020885</td>\n",
       "    </tr>\n",
       "    <tr>\n",
       "      <th>T1_SRS2_Awr</th>\n",
       "      <td>0.124955</td>\n",
       "      <td>-0.008979</td>\n",
       "      <td>1.000000</td>\n",
       "      <td>0.810994</td>\n",
       "      <td>0.833028</td>\n",
       "      <td>0.725517</td>\n",
       "      <td>0.802072</td>\n",
       "    </tr>\n",
       "    <tr>\n",
       "      <th>T1_SRS2_Cog</th>\n",
       "      <td>0.149134</td>\n",
       "      <td>-0.021721</td>\n",
       "      <td>0.810994</td>\n",
       "      <td>1.000000</td>\n",
       "      <td>0.927372</td>\n",
       "      <td>0.851603</td>\n",
       "      <td>0.894801</td>\n",
       "    </tr>\n",
       "    <tr>\n",
       "      <th>T1_SRS2_Com</th>\n",
       "      <td>0.124805</td>\n",
       "      <td>0.055554</td>\n",
       "      <td>0.833028</td>\n",
       "      <td>0.927372</td>\n",
       "      <td>1.000000</td>\n",
       "      <td>0.886085</td>\n",
       "      <td>0.889457</td>\n",
       "    </tr>\n",
       "    <tr>\n",
       "      <th>T1_SRS2_Mot</th>\n",
       "      <td>0.287000</td>\n",
       "      <td>0.093344</td>\n",
       "      <td>0.725517</td>\n",
       "      <td>0.851603</td>\n",
       "      <td>0.886085</td>\n",
       "      <td>1.000000</td>\n",
       "      <td>0.824483</td>\n",
       "    </tr>\n",
       "    <tr>\n",
       "      <th>T1_SRS2_RRB</th>\n",
       "      <td>0.131455</td>\n",
       "      <td>0.020885</td>\n",
       "      <td>0.802072</td>\n",
       "      <td>0.894801</td>\n",
       "      <td>0.889457</td>\n",
       "      <td>0.824483</td>\n",
       "      <td>1.000000</td>\n",
       "    </tr>\n",
       "  </tbody>\n",
       "</table>\n",
       "</div>"
      ],
      "text/plain": [
       "               Gender       Age  T1_SRS2_Awr  T1_SRS2_Cog  T1_SRS2_Com  \\\n",
       "Gender       1.000000  0.042109     0.124955     0.149134     0.124805   \n",
       "Age          0.042109  1.000000    -0.008979    -0.021721     0.055554   \n",
       "T1_SRS2_Awr  0.124955 -0.008979     1.000000     0.810994     0.833028   \n",
       "T1_SRS2_Cog  0.149134 -0.021721     0.810994     1.000000     0.927372   \n",
       "T1_SRS2_Com  0.124805  0.055554     0.833028     0.927372     1.000000   \n",
       "T1_SRS2_Mot  0.287000  0.093344     0.725517     0.851603     0.886085   \n",
       "T1_SRS2_RRB  0.131455  0.020885     0.802072     0.894801     0.889457   \n",
       "\n",
       "             T1_SRS2_Mot  T1_SRS2_RRB  \n",
       "Gender          0.287000     0.131455  \n",
       "Age             0.093344     0.020885  \n",
       "T1_SRS2_Awr     0.725517     0.802072  \n",
       "T1_SRS2_Cog     0.851603     0.894801  \n",
       "T1_SRS2_Com     0.886085     0.889457  \n",
       "T1_SRS2_Mot     1.000000     0.824483  \n",
       "T1_SRS2_RRB     0.824483     1.000000  "
      ]
     },
     "execution_count": 9,
     "metadata": {},
     "output_type": "execute_result"
    }
   ],
   "source": [
    "X_all.corr(method='spearman')"
   ]
  }
 ],
 "metadata": {
  "kernelspec": {
   "display_name": "Python 3.7.11",
   "language": "python",
   "name": "python3"
  },
  "language_info": {
   "codemirror_mode": {
    "name": "ipython",
    "version": 3
   },
   "file_extension": ".py",
   "mimetype": "text/x-python",
   "name": "python",
   "nbconvert_exporter": "python",
   "pygments_lexer": "ipython3",
   "version": "3.7.11"
  },
  "orig_nbformat": 4,
  "vscode": {
   "interpreter": {
    "hash": "2372ab6b4fc37a7712b4a086dc0da1ae89d7c5b413ce4efb40ec6c17b2b5fcf2"
   }
  }
 },
 "nbformat": 4,
 "nbformat_minor": 2
}
