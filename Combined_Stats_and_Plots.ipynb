{
 "cells": [
  {
   "cell_type": "code",
   "execution_count": 8,
   "metadata": {},
   "outputs": [],
   "source": [
    "#Date: 06/04/2021\n",
    "#Location: Imaging Mind Architecture Lab, Trinity College Dublin\n",
    "\n",
    "# Loading all the libraries\n",
    "\n",
    "import pandas as pd\n",
    "from scipy import stats\n",
    "import seaborn as sns\n",
    "import pandas as pd"
   ]
  },
  {
   "cell_type": "code",
   "execution_count": 9,
   "metadata": {},
   "outputs": [],
   "source": [
    "# Loading the data\n",
    "\n",
    "asd = pd.read_csv('C:\\\\Users\\\\theab\\\\OneDrive\\\\Documents\\\\Trinity Dublin\\\\MSc Neuroscience\\\\Courses\\\\PRJ - final\\\\Project\\\\WHMSTS\\\\Code and Results\\\\Files\\\\ASD\\\\ASD_ISC.csv')\n",
    "non_asd = pd.read_csv('C:\\\\Users\\\\theab\\\\OneDrive\\\\Documents\\\\Trinity Dublin\\\\MSc Neuroscience\\\\Courses\\\\PRJ - final\\\\Project\\\\WHMSTS\\\\Code and Results\\\\Files\\\\Non_ASD\\\\Non_ASD_ISC.csv')\n"
   ]
  },
  {
   "cell_type": "code",
   "execution_count": 10,
   "metadata": {},
   "outputs": [
    {
     "name": "stdout",
     "output_type": "stream",
     "text": [
      "Null Hypothesis: ASD and non-ASD cohorts have similar brain synchronisation\n",
      "Test statistic is -6.157911905859653\n",
      "p-value for two tailed test is 4.641236879533839e-09\n",
      "Null hypothesis is rejected, hence ASD group != Non-ASD group\n"
     ]
    }
   ],
   "source": [
    "# Running 2 sample t-test\n",
    "\n",
    "print ('Null Hypothesis: ASD and non-ASD cohorts have similar brain synchronisation')\n",
    "\n",
    "t_value, p_value = stats.ttest_ind(asd['ISC'], non_asd['ISC'])\n",
    "\n",
    "print('Test statistic is', t_value)\n",
    "\n",
    "print('p-value for two tailed test is', p_value)\n",
    "\n",
    "alpha = 0.05\n",
    "\n",
    "if p_value <= alpha:\n",
    "\n",
    "    print ('Null hypothesis is rejected, hence ASD group != Non-ASD group')\n",
    "\n",
    "else:\n",
    "\n",
    "    print ('Null hypothesis is retained, hence ASD group = Non-ASD group')"
   ]
  },
  {
   "cell_type": "code",
   "execution_count": 11,
   "metadata": {},
   "outputs": [
    {
     "data": {
      "text/plain": [
       "Text(0, 0.5, 'ISC Values')"
      ]
     },
     "execution_count": 11,
     "metadata": {},
     "output_type": "execute_result"
    },
    {
     "data": {
      "image/png": "[encoded data removed]",
      "text/plain": [
       "<Figure size 432x288 with 1 Axes>"
      ]
     },
     "metadata": {
      "needs_background": "light"
     },
     "output_type": "display_data"
    }
   ],
   "source": [
    "# Swarm plot for ISC values\n",
    "\n",
    "data = pd.DataFrame([])\n",
    "data['ASD'] = asd['ISC']\n",
    "data['Non-ASD'] = non_asd['ISC']\n",
    "\n",
    "# Plotting ASD and Non-ASD values\n",
    "plot = sns.swarmplot(data=data, palette='Set1')\n",
    "plot.set_ylabel('ISC Values')"
   ]
  },
  {
   "cell_type": "code",
   "execution_count": 12,
   "metadata": {},
   "outputs": [],
   "source": [
    "# Building dictionary for regions in each network\n",
    "\n",
    "# Initialising zip list\n",
    "asd_rois = list(zip(asd['Network'], asd['ROI']))\n",
    "non_asd_rois = list(zip(non_asd['Network'], non_asd['ROI']))\n",
    "\n",
    "# Initiating empty dictionary\n",
    "asd_tab = {}\n",
    "non_asd_tab = {}\n",
    "\n",
    "# Creating blank entries\n",
    "for a,b in asd_rois:\n",
    "    asd_tab[a] = []\n",
    "    non_asd_tab[a] = []\n",
    "\n",
    "# Appending values in respective dictionaries\n",
    "for m, n in asd_rois:\n",
    "    asd_tab[m].append(n)\n",
    "# Sorting the dictionary\n",
    "asd_tab = sorted(asd_tab.items())\n",
    "for c, d in non_asd_rois:\n",
    "    non_asd_tab[c].append(d)\n",
    "# Sorting the dictionary\n",
    "non_asd_tab = sorted(non_asd_tab.items())\n",
    "\n",
    "# Initiating the dataframe\n",
    "asd_data = pd.DataFrame(asd_tab)\n",
    "non_asd_data = pd.DataFrame(non_asd_tab)\n",
    "\n",
    "# Output dataframe\n",
    "rois = pd.DataFrame()\n",
    "rois['Networks'] = asd_data[0]\n",
    "rois['ROIs in ASD Cohort'] = asd_data[1]\n",
    "rois['ROIS in Non-ASD Cohort'] = non_asd_data[1]"
   ]
  },
  {
   "cell_type": "code",
   "execution_count": 13,
   "metadata": {},
   "outputs": [],
   "source": [
    "# Exporting dataframe into csv\n",
    "\n",
    "rois.to_csv('C:\\\\Users\\\\theab\\\\OneDrive\\\\Documents\\\\Trinity Dublin\\\\MSc Neuroscience\\\\Courses\\\\PRJ - final\\\\Project\\\\WHMSTS\\\\Code and Results\\\\Files\\\\Common\\\\ROI Table.csv', index=False)"
   ]
  }
 ],
 "metadata": {
  "interpreter": {
   "hash": "d484f0f0ad5311ba5ad83dceaa0136e26ea035c73ee95348b614b44de6e24d66"
  },
  "kernelspec": {
   "display_name": "Python 3.7.11",
   "language": "python",
   "name": "python3"
  },
  "language_info": {
   "codemirror_mode": {
    "name": "ipython",
    "version": 3
   },
   "file_extension": ".py",
   "mimetype": "text/x-python",
   "name": "python",
   "nbconvert_exporter": "python",
   "pygments_lexer": "ipython3",
   "version": "3.7.11"
  },
  "orig_nbformat": 4
 },
 "nbformat": 4,
 "nbformat_minor": 2
}
